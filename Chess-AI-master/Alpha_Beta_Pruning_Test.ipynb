{
  "cells": [
    {
      "cell_type": "markdown",
      "metadata": {
        "id": "nyg9fCvVEeKc"
      },
      "source": [
        "<h1>Báo cáo đồ án cuối kì lập trình song song: Song song hóa thuật toán Alpha-Beta Pruning và áp dụng chúng vào game cờ vua</h1>\n",
        "<h2>Thành viên nhóm</h2>\n",
        "\n",
        "*   19127503 - Ngô Quốc Phát\n",
        "*   19127230 - Nguyễn Trí Nhân\n",
        "\n",
        "<h2>1. Giới thiệu thuật toán</h2>\n",
        "<p>Alpha-beta pruning là một thuật toán tìm kiếm nhằm giảm số lượng các nút cần được đánh giá bởi thuật toán minimax trong cây tìm kiếm của nó.</p>\n",
        "\n",
        "<p>Thuật toán dừng việc đánh giá một nước đi khi ít nhất một khả năng đã được tìm thấy chứng minh rằng nước đi đó tồi hơn một nước đi đã được kiểm tra trước đó. Những nước đi như vậy không cần được đánh giá thêm nữa. Khi được áp dụng cho một cây minimax chuẩn, nó trả về cùng một nước đi như minimax, nhưng loại bỏ những nhánh không thể ảnh hưởng đến quyết định cuối cùng.</p>\n",
        "\n",
        "<p>Thuật toán này thường được sử dụng trong các trò chơi đối kháng như cờ caro, cờ vua, tictactoe,...</p>\n",
        "\n",
        "*  Input: 1 mảng là 1 chuỗi số nguyên.\n",
        "*  Output: 1 số tối ưu nhất trong chuỗi số đó.\n",
        "\n",
        "Ví dụ:\n",
        "\n",
        "*  Input: A = {2,3,5,9,0,1,7,5}\n",
        "*  Output: Số tối ưu nhất trong A là: 3\n",
        "\n",
        "<p>Đồ án này nhóm sẽ thực hiện song song hóa thuật toán Alpha-beta pruning bằng cách viết lại thuật toán mà không sử dụng thư viện của nó, sau đó áp dụng kĩ thuật song song hóa để tối ưu và cải thiện hiệu suất cho thuật toán.</p>\n",
        "\n",
        "\n",
        "<h2>2. Giới thiệu game cờ vua</h2>\n",
        "<p>Cờ vua là 1 trò chơi board game dành cho 2 người dựa thuần túy vào chiến thuật và chiến lược.</p>\n",
        "<p>Cờ vua là một trong những trò chơi trí tuệ phổ biến nhất thế giới.</p>\n",
        "<p>Nhóm em sẽ áp dụng song song hóa thuật toán Alpha-Beta Pruning vào game này </p>\n",
        "\n",
        "*   Input: 1 bàn cờ vua sau khi mình đã chọn nước đi.\n",
        "*   Output: Nước đi tối ưu của game sau khi thực hiện thuật toán.\n",
        "\n",
        "<h2>3. Ý tưởng</h2>\n",
        "<p>Nhóm em sẽ sử dụng Google Colab để chạy thuật toán song song bằng cả 3 phương pháp là chạy tuần tự, chạy song song qua CPU và chạy song song qua GPU CUDA </p>\n",
        "\n",
        "\n",
        "*   Song song đa lõi: Google Colab cung cấp quyền truy cập vào các máy có nhiều lõi CPU với các thư viện Python như multiprocessing hoặc joblib để phân phối các tác vụ tính toán chuyên sâu trên nhiều lõi. Điều này có thể hữu ích để song song hóa các giai đoạn nhất định trong ứng dụng.\n",
        "*   Tính song song của GPU: Google Colab cung cấp quyền truy cập vào GPU, cụ thể là GPU NVIDIA Tesla. GPU vượt trội ở khả năng xử lý song song và có thể tăng tốc đáng kể các tác vụ học sâu, bao gồm trích xuất tính năng và đào tạo các mô hình máy học. Có thể sử dụng các khung học sâu phổ biến như TensorFlow hoặc PyTorch, được tích hợp hỗ trợ GPU, để tận dụng sức mạnh tính toán song song của GPU.\n",
        "\n",
        "<p>Ngoài ra, trước khi xử lý bằng thuật toán Alpha-Beta Pruning còn có 2 phương pháp tiền xử lý nhằm mục đích tăng tốc song song hóa thuật toán là: sắp xếp lại và phương pháp Beam Search. </p>\n",
        "<p>Tuy nhiên, nhóm em sẽ chọn phương pháp sắp xếp lại vì độ chính xác cao hơn, tối ưu hơn phương pháp còn lại. </p>\n",
        "\n",
        "\n",
        "<h2>4. Phương pháp</h2>\n",
        "<h3>a. Cài đặt module</h3>"
      ]
    },
    {
      "cell_type": "code",
      "source": [
        "import math\n",
        "import numpy as np\n",
        "from numba import cuda, float32, njit, prange\n",
        "import timeit"
      ],
      "metadata": {
        "id": "zeZHfglu0mwf"
      },
      "execution_count": null,
      "outputs": []
    },
    {
      "cell_type": "markdown",
      "source": [
        "<h3>b. Hàm tạo số ngẫu nhiên sử dụng song song hóa thuật toán Mersenne Twister</h3>\n",
        "<p>Bước 1: Thiết lập giá trị seed bất kì và mảng result là chuỗi các số ngẫu nhiên</p>\n",
        "<p>Bước 2: Xác định số lượng threads và blocks cần thiết để chạy kernel.</p>\n",
        "<p>Bước 3: Gọi hàm mersenne_twister_kernel với số lượng blocks và threads đã xác định, n là số giá trị trong mảng, minimum và maximum lần lượt là giá trị nhỏ nhất và lớn nhất trong chuỗi ngẫu nhiên cần tạo.</p>\n",
        "<p>Bước 4: Trong hàm mersenne_twister_kernel:</p>\n",
        "\n",
        "*   Hàm này sử dụng bằng @cuda.jit, cho phép nó chạy song song trên GPU.\n",
        "*   Sử dụng một mảng mt để lưu trữ trạng thái của Mersenne Twister.\n",
        "*   Khởi tạo mảng mt với giá trị seed ban đầu.\n",
        "*   Sử dụng vòng lặp để cập nhật trạng thái của Mersenne Twister và tạo ra các số ngẫu nhiên.\n",
        "*   Lưu trữ kết quả vào mảng result.\n",
        "\n",
        "<p>Bước 5: Trả về mảng result chứa các số ngẫu nhiên đã được tạo ra.</p>\n",
        "\n",
        "\n"
      ],
      "metadata": {
        "id": "KBrwJqBS1Aj7"
      }
    },
    {
      "cell_type": "code",
      "source": [
        "@cuda.jit\n",
        "def mersenne_twister_kernel(seed, n, minimum, maximum, result):\n",
        "    idx = cuda.grid(1)\n",
        "    if idx < n:\n",
        "        mt = cuda.local.array(624, dtype=np.uint32)\n",
        "        mt[0] = seed\n",
        "        for i in range(1, 624):\n",
        "            mt[i] = 0xFFFFFFFF & (1812433253 * (mt[i - 1] ^ (mt[i - 1] >> 30)) + i)\n",
        "\n",
        "        index = 624\n",
        "        for _ in range(idx + 1):\n",
        "            if index >= 624:\n",
        "                for i in range(624):\n",
        "                    y = (mt[i] & 0x80000000) + (mt[(i + 1) % 624] & 0x7FFFFFFF)\n",
        "                    mt[i] = mt[(i + 397) % 624] ^ (y >> 1)\n",
        "                    if y % 2 != 0:\n",
        "                        mt[i] ^= 0x9908B0DF\n",
        "                index = 0\n",
        "\n",
        "            y = mt[index]\n",
        "            y ^= (y >> 11)\n",
        "            y ^= (y << 7) & 0x9D2C5680\n",
        "            y ^= (y << 15) & 0xEFC60000\n",
        "            y ^= (y >> 18)\n",
        "            index += 1\n",
        "\n",
        "        result[idx] = minimum + (y % (maximum - minimum + 1))\n",
        "\n",
        "def random_array(n, minimum, maximum):\n",
        "    seed = 5489\n",
        "    result = np.zeros(n, dtype=np.float32)\n",
        "    threads_per_block = 256\n",
        "    blocks_per_grid = (n + (threads_per_block - 1)) // threads_per_block\n",
        "    mersenne_twister_kernel[blocks_per_grid, threads_per_block](seed, n, minimum, maximum, result)\n",
        "    return result"
      ],
      "metadata": {
        "id": "xnhcgWRS6Zss"
      },
      "execution_count": null,
      "outputs": []
    },
    {
      "cell_type": "markdown",
      "source": [
        "<h3>c. Ghi và đọc file chứa các chuỗi số ngẫu nhiên</h3>"
      ],
      "metadata": {
        "id": "ksyCQapF6jOL"
      }
    },
    {
      "cell_type": "code",
      "source": [
        "def writefile(name, n, minimum, maximum):\n",
        "    arr = np.array(random_array(n, minimum, maximum),dtype=np.float32)\n",
        "    arr.tofile(name)\n",
        "\n",
        "def readfile(name):\n",
        "    arr_from_file = np.fromfile(name, dtype=np.float32)\n",
        "    return arr_from_file"
      ],
      "metadata": {
        "id": "XmQKn3e869TL"
      },
      "execution_count": null,
      "outputs": []
    },
    {
      "cell_type": "markdown",
      "source": [
        "<h3> d. Song song hóa qua GPU CUDA thuật toán Quick Sort </h3>\n",
        "<p>Bước 1: Chuyển mảng arr từ CPU sang GPU bằng cuda.to_device</p>\n",
        "<p>Bước 2: Xác định số lượng threads và blocks cần thiết để chạy kernel.</p>\n",
        "<p>Bước 3: Gọi hàm quicksort_kernel với số lượng blocks và threads đã xác định.</p>\n",
        "<p>Bước 4: Trong hàm quicksort_kernel:</p>\n",
        "\n",
        "*   Hàm này sử dụng bằng @cuda.jit, cho phép nó chạy song song trên GPU.\n",
        "*   Sử dụng một mảng stack để lưu trữ các chỉ số của các phân đoạn cần sắp xếp.\n",
        "*   Sử dụng vòng lặp while để thực hiện sắp xếp các phân đoạn bằng cách chọn một phần tử làm pivot và sắp xếp các phần tử nhỏ hơn pivot sang bên trái và lớn hơn pivot sang bên phải.\n",
        "*   Sau khi sắp xếp xong một phân đoạn, các phân đoạn con sẽ được đẩy vào stack để tiếp tục sắp xếp.\n",
        "\n",
        "<p>Bước 5: Sao chép mảng đã sắp xếp từ GPU về lại host CPU bằng d_arr.copy_to_host.</p>"
      ],
      "metadata": {
        "id": "kOfCE8MC7Axv"
      }
    },
    {
      "cell_type": "code",
      "source": [
        "@cuda.jit\n",
        "def quicksort_kernel(arr, left, right):\n",
        "    stack = cuda.local.array(1024, dtype=np.int32)\n",
        "    top = -1\n",
        "\n",
        "    top += 1\n",
        "    stack[top] = left\n",
        "    top += 1\n",
        "    stack[top] = right\n",
        "\n",
        "    while top >= 0:\n",
        "        right = stack[top]\n",
        "        top -= 1\n",
        "        left = stack[top]\n",
        "        top -= 1\n",
        "\n",
        "        i = left - 1\n",
        "        pivot = arr[right]\n",
        "\n",
        "        for j in range(left, right):\n",
        "            if arr[j] >= pivot:  # Change comparison to >= for descending order\n",
        "                i += 1\n",
        "                arr[i], arr[j] = arr[j], arr[i]\n",
        "\n",
        "        arr[i + 1], arr[right] = arr[right], arr[i + 1]\n",
        "        p = i + 1\n",
        "\n",
        "        if p - 1 > left:\n",
        "            top += 1\n",
        "            stack[top] = left\n",
        "            top += 1\n",
        "            stack[top] = p - 1\n",
        "\n",
        "        if p + 1 < right:\n",
        "            top += 1\n",
        "            stack[top] = p + 1\n",
        "            top += 1\n",
        "            stack[top] = right\n",
        "\n",
        "def quicksort(arr):\n",
        "    n = len(arr)\n",
        "    d_arr = cuda.to_device(arr)\n",
        "    threads_per_block = 256\n",
        "    blocks_per_grid = (n + (threads_per_block - 1)) // threads_per_block\n",
        "\n",
        "    quicksort_kernel[blocks_per_grid, threads_per_block](arr, 0, n-1)\n",
        "    d_arr.copy_to_host(arr)\n"
      ],
      "metadata": {
        "id": "bPZEqpucuxzL"
      },
      "execution_count": null,
      "outputs": []
    },
    {
      "cell_type": "markdown",
      "source": [
        "**e. Thuật toán Alpha-Beta Pruning:**\n",
        "\n",
        "Bước 1. **Khởi tạo Ngăn xếp:**\n",
        "   - Đầu tiên, chúng ta tạo một ngăn xếp để lưu trữ trạng thái của các nút trong cây tìm kiếm.\n",
        "   - Sau đó, đẩy trạng thái ban đầu vào ngăn xếp với các thông số: độ sâu là 0, chỉ số là 0, người chơi tối đa hóa là True, alpha là âm vô cực, và beta là dương vô cực.\n",
        "\n",
        "Bước 2. **Lặp lại Khi Ngăn xếp Không Rỗng:**\n",
        "   - Lấy trạng thái trên cùng ra khỏi ngăn xếp.\n",
        "   - Nếu độ sâu hiện tại bằng độ sâu tối đa, trả về giá trị tại chỉ số hiện tại.\n",
        "   - Nếu không, xác định xem vị trí hiện tại là tối đa hóa hay tối thiểu hóa.\n",
        "\n",
        "Bước 3. **Đối với vị trí tối đa hóa:**\n",
        "   - Khởi tạo giá trị tối ưu là âm vô cực.\n",
        "   - Đẩy các nút con phải và trái vào ngăn xếp.\n",
        "   - Đánh giá các nút con và cập nhật giá trị tối ưu và alpha.\n",
        "   - Nếu alpha lớn hơn hoặc bằng beta, cắt tỉa các nút còn lại.\n",
        "\n",
        "Bước 4. **Đối với vị trí tối thiểu hóa:**\n",
        "   - Khởi tạo giá trị tối ưu là dương vô cực.\n",
        "   - Đẩy các nút con phải và trái vào ngăn xếp.\n",
        "   - Đánh giá các nút con và cập nhật giá trị tối ưu và beta.\n",
        "   - Nếu beta nhỏ hơn hoặc bằng alpha, cắt tỉa các nút còn lại."
      ],
      "metadata": {
        "id": "ilcd07jYAfMW"
      }
    },
    {
      "cell_type": "code",
      "source": [
        "def Alpha_Beta_Pruning_Sequential(values, max_depth):\n",
        "    stack = np.zeros((1000, 5), dtype=np.float32)\n",
        "    stack_size = 0\n",
        "\n",
        "    # Initialize stack\n",
        "    stack[stack_size, 0] = 0  # depth\n",
        "    stack[stack_size, 1] = 0  # index\n",
        "    stack[stack_size, 2] = 1  # maximizingPlayer (True as 1)\n",
        "    stack[stack_size, 3] = float('-inf')  # alpha\n",
        "    stack[stack_size, 4] = float('inf')  # beta\n",
        "    stack_size += 1\n",
        "\n",
        "    while stack_size > 0:\n",
        "        stack_size -= 1\n",
        "        depth = stack[stack_size, 0]\n",
        "        index = stack[stack_size, 1]\n",
        "        maximizingPlayer = stack[stack_size, 2]\n",
        "        alpha = stack[stack_size, 3]\n",
        "        beta = stack[stack_size, 4]\n",
        "\n",
        "        if depth == max_depth:\n",
        "            return values[int(index)]\n",
        "        else:\n",
        "            if maximizingPlayer:\n",
        "                optimum = float('-inf')\n",
        "                for i in range(1, -1, -1):  # Push right child first\n",
        "                    stack[stack_size, 0] = depth + 1\n",
        "                    stack[stack_size, 1] = index * 2 + i\n",
        "                    stack[stack_size, 2] = 0  # False as 0\n",
        "                    stack[stack_size, 3] = alpha\n",
        "                    stack[stack_size, 4] = beta\n",
        "                    stack_size += 1\n",
        "\n",
        "                while stack_size > 0 and stack[stack_size - 1, 0] == depth + 1:\n",
        "                    stack_size -= 1\n",
        "                    idx = stack[stack_size, 1]\n",
        "                    val = values[int(idx)]\n",
        "                    optimum = max(optimum, val)\n",
        "                    alpha = max(alpha, optimum)\n",
        "                    if beta <= alpha:\n",
        "                        break\n",
        "                return optimum\n",
        "            else:\n",
        "                optimum = float('inf')\n",
        "                for i in range(1, -1, -1):  # Push right child first\n",
        "                    stack[stack_size, 0] = depth + 1\n",
        "                    stack[stack_size, 1] = index * 2 + i\n",
        "                    stack[stack_size, 2] = 1  # True as 1\n",
        "                    stack[stack_size, 3] = alpha\n",
        "                    stack[stack_size, 4] = beta\n",
        "                    stack_size += 1\n",
        "\n",
        "                while stack_size > 0 and stack[stack_size - 1, 0] == depth + 1:\n",
        "                    stack_size -= 1\n",
        "                    idx = stack[stack_size, 1]\n",
        "                    val = values[int(idx)]\n",
        "                    optimum = min(optimum, val)\n",
        "                    beta = min(beta, optimum)\n",
        "                    if beta <= alpha:\n",
        "                        break\n",
        "                return optimum"
      ],
      "metadata": {
        "id": "DJIo425eu1-l"
      },
      "execution_count": null,
      "outputs": []
    },
    {
      "cell_type": "code",
      "source": [
        "@njit(fastmath=True, cache=True, parallel=True)\n",
        "def Alpha_Beta_Pruning_CPU(values, max_depth):\n",
        "    stack = np.zeros((1000, 5), dtype=np.float32)\n",
        "    stack_size = 0\n",
        "\n",
        "    # Initialize stack\n",
        "    stack[stack_size, 0] = 0  # depth\n",
        "    stack[stack_size, 1] = 0  # index\n",
        "    stack[stack_size, 2] = 1  # maximizingPlayer (True as 1)\n",
        "    stack[stack_size, 3] = float('-inf')  # alpha\n",
        "    stack[stack_size, 4] = float('inf')  # beta\n",
        "    stack_size += 1\n",
        "\n",
        "    while stack_size > 0:\n",
        "        stack_size -= 1\n",
        "        depth = stack[stack_size, 0]\n",
        "        index = stack[stack_size, 1]\n",
        "        maximizingPlayer = stack[stack_size, 2]\n",
        "        alpha = stack[stack_size, 3]\n",
        "        beta = stack[stack_size, 4]\n",
        "\n",
        "        if depth == max_depth:\n",
        "            result = values[int(index)]\n",
        "        else:\n",
        "            if maximizingPlayer:\n",
        "                optimum = float('-inf')\n",
        "                for i in range(1, -1, -1):  # Push right child first\n",
        "                    stack[stack_size, 0] = depth + 1\n",
        "                    stack[stack_size, 1] = index * 2 + i\n",
        "                    stack[stack_size, 2] = 0  # False as 0\n",
        "                    stack[stack_size, 3] = alpha\n",
        "                    stack[stack_size, 4] = beta\n",
        "                    stack_size += 1\n",
        "\n",
        "                while stack_size > 0 and stack[stack_size - 1, 0] == depth + 1:\n",
        "                    stack_size -= 1\n",
        "                    idx = stack[stack_size, 1]\n",
        "                    val = values[int(idx)]\n",
        "                    optimum = max(optimum, val)\n",
        "                    alpha = max(alpha, optimum)\n",
        "                    if beta <= alpha:\n",
        "                        break\n",
        "                result = optimum\n",
        "            else:\n",
        "                optimum = float('inf')\n",
        "                for i in range(1, -1, -1):  # Push right child first\n",
        "                    stack[stack_size, 0] = depth + 1\n",
        "                    stack[stack_size, 1] = index * 2 + i\n",
        "                    stack[stack_size, 2] = 1  # True as 1\n",
        "                    stack[stack_size, 3] = alpha\n",
        "                    stack[stack_size, 4] = beta\n",
        "                    stack_size += 1\n",
        "                while stack_size > 0 and stack[stack_size - 1, 0] == depth + 1:\n",
        "                    stack_size -= 1\n",
        "                    idx = stack[stack_size, 1]\n",
        "                    val = values[int(idx)]\n",
        "                    optimum = min(optimum, val)\n",
        "                    beta = min(beta, optimum)\n",
        "                    if beta <= alpha:\n",
        "                        break\n",
        "                result = optimum\n",
        "    return result"
      ],
      "metadata": {
        "id": "blPFl3JHu6Gm"
      },
      "execution_count": null,
      "outputs": []
    },
    {
      "cell_type": "code",
      "execution_count": null,
      "metadata": {
        "id": "bQ0bxjCJpx0V"
      },
      "outputs": [],
      "source": [
        "\n",
        "@cuda.jit\n",
        "def Alpha_Beta_Pruning_CUDA(values, max_depth, result):\n",
        "    stack = cuda.local.array((1000, 5), dtype=float32)\n",
        "    stack_size = 0\n",
        "\n",
        "    # Initialize stack\n",
        "    stack[stack_size, 0] = 0  # depth\n",
        "    stack[stack_size, 1] = 0  # index\n",
        "    stack[stack_size, 2] = 1  # maximizingPlayer (True as 1)\n",
        "    stack[stack_size, 3] = float('-inf')  # alpha\n",
        "    stack[stack_size, 4] = float('inf')  # beta\n",
        "    stack_size += 1\n",
        "\n",
        "    while stack_size > 0:\n",
        "        stack_size -= 1\n",
        "        depth = stack[stack_size, 0]\n",
        "        index = stack[stack_size, 1]\n",
        "        maximizingPlayer = stack[stack_size, 2]\n",
        "        alpha = stack[stack_size, 3]\n",
        "        beta = stack[stack_size, 4]\n",
        "\n",
        "        if depth == max_depth:\n",
        "            result[0] = values[int(index)]\n",
        "        else:\n",
        "            if maximizingPlayer:\n",
        "                optimum = float('-inf')\n",
        "                for i in range(1, -1, -1):  # Push right child first\n",
        "                    stack[stack_size, 0] = depth + 1\n",
        "                    stack[stack_size, 1] = index * 2 + i\n",
        "                    stack[stack_size, 2] = 0  # False as 0\n",
        "                    stack[stack_size, 3] = alpha\n",
        "                    stack[stack_size, 4] = beta\n",
        "                    stack_size += 1\n",
        "\n",
        "                while stack_size > 0 and stack[stack_size - 1, 0] == depth + 1:\n",
        "                    stack_size -= 1\n",
        "                    idx = stack[stack_size, 1]\n",
        "                    val = values[int(idx)]\n",
        "                    optimum = max(optimum, val)\n",
        "                    alpha = max(alpha, optimum)\n",
        "                    if beta <= alpha:\n",
        "                        break\n",
        "                result[0] = optimum\n",
        "            else:\n",
        "                optimum = float('inf')\n",
        "                for i in range(1, -1, -1):  # Push right child first\n",
        "                    stack[stack_size, 0] = depth + 1\n",
        "                    stack[stack_size, 1] = index * 2 + i\n",
        "                    stack[stack_size, 2] = 1  # True as 1\n",
        "                    stack[stack_size, 3] = alpha\n",
        "                    stack[stack_size, 4] = beta\n",
        "                    stack_size += 1\n",
        "\n",
        "                while stack_size > 0 and stack[stack_size - 1, 0] == depth + 1:\n",
        "                    stack_size -= 1\n",
        "                    idx = stack[stack_size, 1]\n",
        "                    val = values[int(idx)]\n",
        "                    optimum = min(optimum, val)\n",
        "                    beta = min(beta, optimum)\n",
        "                    if beta <= alpha:\n",
        "                        break\n",
        "                result[0] = optimum\n",
        "\n",
        "\n"
      ]
    },
    {
      "cell_type": "code",
      "source": [],
      "metadata": {
        "id": "uhviDiVBL2XD"
      },
      "execution_count": null,
      "outputs": []
    },
    {
      "cell_type": "code",
      "source": [
        "def quicksort(arr):\n",
        "    if len(arr) <= 1:\n",
        "        return arr\n",
        "    else:\n",
        "        pivot = arr[0]\n",
        "        left = [x for x in arr[1:] if x < pivot]\n",
        "        right = [x for x in arr[1:] if x >= pivot]\n",
        "        return quicksort(left) + [pivot] + quicksort(right)\n"
      ],
      "metadata": {
        "id": "6RspDxu2M6Kx"
      },
      "execution_count": null,
      "outputs": []
    },
    {
      "cell_type": "code",
      "source": [
        "# Data\n",
        "writefile('number_data.bin',1000000,1,100000)\n",
        "values = readfile('number_data.bin')\n",
        "\n",
        "# values = np.array([911, 940, 907, 259, 560, 230, 952, 848, 347, 730, 973, 864, 828, 164, 958, 314, 842, 997, 655, 996, 963, 2, 459, 115, 725, 799, 152, 361, 698, 833, 318, 215, 911, 580, 276, 922, 937, 886, 148, 931, 114, 96, 174, 114, 194, 322, 773, 60, 225, 517, 123, 102, 911, 36, 236, 764, 459, 981, 23, 731, 880, 268, 622, 692, 215, 497, 69, 135, 759, 250, 912, 510, 312, 418, 467, 142, 990, 827, 197, 153, 91, 349, 46, 493, 551, 573, 213, 818, 475, 215, 921, 570, 998, 73, 453, 742, 957, 376, 206, 173], dtype=np.float32)\n",
        "max_depth = int(math.log(len(values), 2))\n",
        "result = np.zeros(1, dtype=np.float32)\n"
      ],
      "metadata": {
        "colab": {
          "base_uri": "https://localhost:8080/"
        },
        "id": "WpXYgiptPTFV",
        "outputId": "fdc489fb-8426-4cb9-a19b-3b1031c56c85"
      },
      "execution_count": null,
      "outputs": [
        {
          "output_type": "stream",
          "name": "stderr",
          "text": [
            "/usr/local/lib/python3.10/dist-packages/numba/cuda/cudadrv/devicearray.py:888: NumbaPerformanceWarning: Host array used in CUDA kernel will incur copy overhead to/from device.\n",
            "  warn(NumbaPerformanceWarning(msg))\n"
          ]
        }
      ]
    },
    {
      "cell_type": "code",
      "source": [
        "\n",
        "#Chạy tuần tự\n",
        "print(\"Chạy tuần tự:\")\n",
        "start = timeit.default_timer()\n",
        "result = Alpha_Beta_Pruning_Sequential(values, max_depth)\n",
        "stop = timeit.default_timer()\n",
        "print(\"Trước khi sắp xếp dữ liệu:\")\n",
        "print(\"Result:\", result)\n",
        "print('Time: ', stop - start)\n",
        "v1=quicksort(values)\n",
        "start = timeit.default_timer()\n",
        "result = Alpha_Beta_Pruning_Sequential(values, max_depth)\n",
        "stop = timeit.default_timer()\n",
        "print(\"Sau khi sắp xếp dữ liệu:\")\n",
        "print(\"Result:\", result)\n",
        "print('Time: ', stop - start)\n",
        "\n",
        "#Chạy song song trên CPU\n",
        "print(\"\\nChạy song song trên CPU:\")\n",
        "start = timeit.default_timer()\n",
        "result_CPU = Alpha_Beta_Pruning_CPU(values, max_depth)\n",
        "stop = timeit.default_timer()\n",
        "print(\"Trước khi sắp xếp dữ liệu:\")\n",
        "print(\"Result:\", result_CPU)\n",
        "print('Time: ', stop - start)\n",
        "v2=quicksort(values)\n",
        "start = timeit.default_timer()\n",
        "result_CPU = Alpha_Beta_Pruning_CPU(values, max_depth)\n",
        "stop = timeit.default_timer()\n",
        "print(\"Sau khi sắp xếp dữ liệu:\")\n",
        "print(\"Result:\", result_CPU)\n",
        "print('Time: ', stop - start)\n",
        "\n",
        "#Chạy song song trên GPU\n",
        "result_GPU = np.zeros(1, dtype=np.float32)\n",
        "v3 =  np.array(quicksort(values))\n",
        "\n",
        "# Launch kernel with more threads and blocks\n",
        "threads_per_block = 256\n",
        "blocks_per_grid = (values.size + (threads_per_block - 1)) // threads_per_block\n",
        "start = timeit.default_timer()\n",
        "Alpha_Beta_Pruning_CUDA[blocks_per_grid, threads_per_block](values, max_depth, result_GPU)\n",
        "stop = timeit.default_timer()\n",
        "print(\"\\nChạy song song trên GPU CUDA:\")\n",
        "print(\"Trước khi sắp xếp dữ liệu:\")\n",
        "print(\"Result:\", result_GPU[0])\n",
        "print('Time: ', stop - start)\n",
        "\n",
        "result_GPU_2 = np.zeros(1, dtype=np.float32)\n",
        "threads_per_block = 256\n",
        "blocks_per_grid = (values.size + (threads_per_block - 1)) // threads_per_block\n",
        "start = timeit.default_timer()\n",
        "Alpha_Beta_Pruning_CUDA[blocks_per_grid, threads_per_block](v3, max_depth, result_GPU_2)\n",
        "stop = timeit.default_timer()\n",
        "print(\"Sau khi sắp xếp dữ liệu:\")\n",
        "print(\"Result:\", result_GPU_2[0])\n",
        "print('Time: ', stop - start)"
      ],
      "metadata": {
        "id": "FqTT5AIEBGM5",
        "colab": {
          "base_uri": "https://localhost:8080/"
        },
        "outputId": "55b27e91-c84c-400b-c27a-5269619a278f"
      },
      "execution_count": null,
      "outputs": [
        {
          "output_type": "stream",
          "name": "stdout",
          "text": [
            "Chạy tuần tự:\n",
            "Trước khi sắp xếp dữ liệu:\n",
            "Result: 69303.0\n",
            "Time:  0.00026006299958680756\n",
            "Sau khi sắp xếp dữ liệu:\n",
            "Result: 69303.0\n",
            "Time:  0.00033218699991266476\n",
            "\n",
            "Chạy song song trên CPU:\n",
            "Trước khi sắp xếp dữ liệu:\n",
            "Result: 69303.0\n",
            "Time:  0.47552021499996044\n",
            "Sau khi sắp xếp dữ liệu:\n",
            "Result: 69303.0\n",
            "Time:  0.00021553199985646643\n"
          ]
        },
        {
          "output_type": "stream",
          "name": "stderr",
          "text": [
            "/usr/local/lib/python3.10/dist-packages/numba/cuda/cudadrv/devicearray.py:888: NumbaPerformanceWarning: Host array used in CUDA kernel will incur copy overhead to/from device.\n",
            "  warn(NumbaPerformanceWarning(msg))\n"
          ]
        },
        {
          "output_type": "stream",
          "name": "stdout",
          "text": [
            "\n",
            "Chạy song song trên GPU CUDA:\n",
            "Trước khi sắp xếp dữ liệu:\n",
            "Result: 69303.0\n",
            "Time:  1.0776357500003542\n",
            "Sau khi sắp xếp dữ liệu:\n",
            "Result: 1.0\n",
            "Time:  0.10346668700003647\n"
          ]
        }
      ]
    },
    {
      "cell_type": "code",
      "source": [
        "v3"
      ],
      "metadata": {
        "colab": {
          "base_uri": "https://localhost:8080/"
        },
        "id": "uQmuV1xfHe2i",
        "outputId": "0e913b07-d5b5-4698-afe3-a41d53231893"
      },
      "execution_count": null,
      "outputs": [
        {
          "output_type": "execute_result",
          "data": {
            "text/plain": [
              "array([1.e+00, 1.e+00, 1.e+00, ..., 1.e+05, 1.e+05, 1.e+05], dtype=float32)"
            ]
          },
          "metadata": {},
          "execution_count": 11
        }
      ]
    },
    {
      "cell_type": "markdown",
      "source": [
        "<h2>5. Thành tựu</h2>\n",
        "\n",
        "*   100%: Xây dựng được thuật toán ở những cách chạy tuần tự, chạy song song bằng CPU và chạy song song bằng GPU một cách hoàn thiện nhất. Mục tiêu ở bước này sẽ là cho ra một cái nhìn khách quan về hiệu suất của từng cách làm. (Đã hoàn thành)\n",
        "*   125%: Xây dựng được trò chơi cờ vua theo kiểu tuần tự nhưng chưa thể song song hóa trò chơi này qua CPU, GPU và shared memory. Bị lỗi game khi chơi lượt 3.\n",
        "\n",
        "\n",
        "<h2>6. Khó khăn</h2>\n",
        "\n",
        "*   Tài liệu hạn chế.\n",
        "*   Chưa chạy được Shared Memory.\n",
        "*   Chạy song song CPU, GPU và Shared memory bị lỗi khi áp dụng với game cờ vua.\n",
        "*   Thời gian chạy tuần tự mất nhiều thời gian.\n",
        "*   Cả 2 thành viên nhóm mình bị dí deadline từ nơi làm việc nên trễ hẹn nộp seminar 2.\n",
        "\n",
        "<h2>7. References</h2>\n",
        "<p>[1] https://github.com/njmarko/alpha-beta-pruning-minmax-checkers</p>\n",
        "<p>[2] https://www.researchgate.net/publication/343945419_IMPLEMENTATION_OF_SEQUENTIAL_AND_PARALLEL_ALPHA-BETA_PRUNING_ALGORITHM</p>\n",
        "<p>[3] https://arxiv.org/pdf/1908.11660</p>\n",
        "<p>[4] https://www.kaggle.com/code/garyongguanjie/mini-max-alpha-beta-no-np/<p>\n",
        "<p>[5] https://tonypoer.io/2016/10/28/implementing-minimax-and-alpha-beta-pruning-using-python/</p>\n",
        "<p>[6] https://en.wikipedia.org/wiki/Alpha%E2%80%93beta_pruning</p>\n",
        "<p>[7] https://medium.com/chat-gpt-now-writes-all-my-articles/advanced-ai-alpha-beta-pruning-in-python-through-tic-tac-toe-70bb0b15db05</p>\n",
        "<p>[8] https://www.mygreatlearning.com/blog/alpha-beta-pruning-in-ai/</p>\n",
        "<p>[9] https://en.wikipedia.org/wiki/Mersenne_Twister</p>\n",
        "<p>[10] https://github.com/yinengy/Mersenne-Twister-in-Python</p>\n",
        "\n",
        "\n",
        "\n"
      ],
      "metadata": {
        "id": "jurcZ1bH99wt"
      }
    }
  ],
  "metadata": {
    "accelerator": "GPU",
    "colab": {
      "gpuType": "T4",
      "provenance": [],
      "toc_visible": true
    },
    "kernelspec": {
      "display_name": "Python 3",
      "name": "python3"
    },
    "language_info": {
      "name": "python"
    }
  },
  "nbformat": 4,
  "nbformat_minor": 0
}